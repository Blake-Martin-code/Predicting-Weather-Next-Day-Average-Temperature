{
  "cells": [
    {
      "cell_type": "markdown",
      "metadata": {
        "id": "0h8oGgyI_Rhh"
      },
      "source": [
        "# A1.1 Linear Regression with SGD"
      ]
    },
    {
      "cell_type": "markdown",
      "metadata": {
        "id": "KJflO6Av_Rhl"
      },
      "source": [
        "* A1.1: *Added preliminary grading script in last cells of notebook.*"
      ]
    },
    {
      "cell_type": "markdown",
      "metadata": {
        "id": "wwbz87yS_Rhn"
      },
      "source": [
        "In this assignment, you will implement three functions `train`, `use`, and `rmse` and apply them to some weather data.\n",
        "Here are the specifications for these functions, which you must satisfy."
      ]
    },
    {
      "cell_type": "markdown",
      "metadata": {
        "id": "HQkd1knx_Rhn"
      },
      "source": [
        "`model = train(X, T, learning_rate, n_epochs, verbose)`\n",
        "* `X`: is an $N$ x $D$ matrix of input data samples, one per row. $N$ is the number of samples and $D$ is the number of variable values in\n",
        "each sample.\n",
        "* `T`: is an $N$ x $K$ matrix of desired target values for each sample.  $K$ is the number of output values you want to predict for each sample.\n",
        "* `learning_rate`: is a scalar that controls the step size of each update to the weight values.\n",
        "* `n_epochs`: is the number of epochs, or passes, through all $N$ samples, to take while updating the weight values.\n",
        "* `verbose`: is True or False (default value) to control whether or not occasional text is printed to show the training progress.\n",
        "* `model`: is the returned value, which must be a dictionary with the keys `'w'`, `'Xmeans'`, `'Xstds'`, `'Tmeans'` and `'Tstds'`.\n",
        "\n",
        "`Y = use(X, model)`\n",
        "* `X`: is an $N$ x $D$ matrix of input data samples, one per row, for which you want to predict the target values.\n",
        "* `model`: is the dictionary returned by `train`.\n",
        "* `Y`: is the returned $N$ x $K$ matrix of predicted values, one for each sample in `X`.\n",
        "\n",
        "`result = rmse(Y, T)`\n",
        "* `Y`: is an $N$ x $K$ matrix of predictions produced by `use`.\n",
        "* `T`: is the $N$ x $K$ matrix of target values.\n",
        "* `result`: is a scalar calculated as the square root of the mean of the squared differences between each sample (row) in `Y` and `T`."
      ]
    },
    {
      "cell_type": "markdown",
      "metadata": {
        "id": "fCqAXW58_Rhp"
      },
      "source": [
        "To get you started, here are the standard imports we need."
      ]
    },
    {
      "cell_type": "code",
      "execution_count": 34,
      "metadata": {
        "lines_to_next_cell": 1,
        "id": "vpOCrGO-_Rhq"
      },
      "outputs": [],
      "source": [
        "import numpy as np\n",
        "import matplotlib.pyplot as plt\n",
        "import pandas as pd\n"
      ]
    },
    {
      "cell_type": "markdown",
      "metadata": {
        "id": "i3926ekp_Rhs"
      },
      "source": [
        "## 60 points: 40 for train, 10 for use, 10 for rmse"
      ]
    },
    {
      "cell_type": "markdown",
      "metadata": {
        "id": "RSCVwEii_Rhs"
      },
      "source": [
        "Now here is a start at defining the `train`, `use`, and `rmse`\n",
        "functions.  Fill in the correct code wherever you see `. . .` with\n",
        "one or more lines of code."
      ]
    },
    {
      "cell_type": "code",
      "execution_count": 35,
      "metadata": {
        "lines_to_next_cell": 1,
        "id": "RCUi4RIG_Rht"
      },
      "outputs": [],
      "source": [
        "def train(X, T, learning_rate, n_epochs, verbose=False):\n",
        "    \n",
        "\n",
        "    # Calculate means and standard deviations of each column in X and T\n",
        "    Xmeans = np.mean(X, axis=0)\n",
        "    Xstds = np.std(X, axis=0)\n",
        "    Tmeans = np.mean(T, axis=0)\n",
        "    Tstds = np.std(T, axis=0)\n",
        "    \n",
        "    # Use the means and standard deviations to standardize X and T\n",
        "    X = (X - Xmeans) / Xstds\n",
        "    T = (T - Tmeans) / Tstds\n",
        "\n",
        "    # Insert the column of constant 1's as a new initial column in X\n",
        "    \n",
        "    X = np.insert(X, 0, 1, axis=1)\n",
        "    \n",
        "    # Initialize weights to be a numpy array of the correct shape and all zeros values.\n",
        "    w = np.zeros((X.shape[1], 1))\n",
        "    \n",
        "\n",
        "    for epoch in range(n_epochs):\n",
        "        sqerror_sum = 0\n",
        "        n_samples = X.shape[0]\n",
        "\n",
        "        for n in range(n_samples):\n",
        "\n",
        "            # Use current weight values to predict output for sample n, then\n",
        "            # calculate the error, and\n",
        "            # update the weight values.\n",
        "            # [n:n+1, :] this grabs all the columns at row n, where the row is an individual sample\n",
        "            predicted = X[n:n+1, :] @ w\n",
        "            error = T[n:n+1, :] - predicted\n",
        "            #update the weight vector\n",
        "            w += learning_rate * X[n:n+1, :].T * error\n",
        "            \n",
        "            # Add the squared error to sqerror_sum\n",
        "            # square the error and add it to sqerror_sum\n",
        "            sqerror_sum += (error **2)\n",
        "            \n",
        "        if verbose and (n_epochs < 11 or (epoch + 1) % (n_epochs // 10) == 0):\n",
        "            rmse = np.sqrt(sqerror_sum / n_samples)\n",
        "            rmse = rmse[0, 0]  # because rmse is 1x1 matrix\n",
        "            print(f'Epoch {epoch + 1} RMSE {rmse:.2f}')\n",
        "\n",
        "    return {'w': w, 'Xmeans': Xmeans, 'Xstds': Xstds,\n",
        "            'Tmeans': Tmeans, 'Tstds': Tstds}"
      ]
    },
    {
      "cell_type": "code",
      "execution_count": 36,
      "metadata": {
        "lines_to_next_cell": 1,
        "id": "_17-_Bkd_Rhu"
      },
      "outputs": [],
      "source": [
        "def use(X, model):\n",
        "    # Standardize X using Xmeans and Xstds in model\n",
        "    X = (X - model['Xmeans']) / model['Xstds']\n",
        "    \n",
        "    # Predict output values using weights in model\n",
        "    '''w = np.array(list(model['w']))\n",
        "    print(\"w: \", X.shape, w.T.shape)\n",
        "    predicted = X @ w.T'''\n",
        "    w = np.array(list(model['w']))[1:]\n",
        "    \n",
        "    predicted = X @ w\n",
        "    \n",
        "    # Unstandardize the predicted output values using Tmeans and Tstds in model\n",
        "    predicted = (predicted * model['Tstds']) + model['Tmeans']\n",
        "    # Return the unstandardized output values\n",
        "    return predicted\n",
        "    '''return predicted[:,1:]'''"
      ]
    },
    {
      "cell_type": "code",
      "execution_count": 37,
      "metadata": {
        "lines_to_next_cell": 1,
        "id": "tHr0v8Od_Rhu"
      },
      "outputs": [],
      "source": [
        "def rmse(A, B):\n",
        "    return np.sqrt( np.mean((A - B)**2))"
      ]
    },
    {
      "cell_type": "markdown",
      "metadata": {
        "id": "vVH5x4-Z_Rhu"
      },
      "source": [
        "Here is a simple example use of your functions to help you debug them.  Your functions must produce the same results."
      ]
    },
    {
      "cell_type": "code",
      "execution_count": 38,
      "metadata": {
        "colab": {
          "base_uri": "https://localhost:8080/",
          "height": 279
        },
        "id": "-t74WKaQ_Rhv",
        "outputId": "4e040c2c-fc00-43a7-aa31-31f65cea8157"
      },
      "outputs": [
        {
          "output_type": "display_data",
          "data": {
            "image/png": "[encoded data removed]",
            "text/plain": [
              "<Figure size 432x288 with 1 Axes>"
            ]
          },
          "metadata": {
            "needs_background": "light"
          }
        }
      ],
      "source": [
        "X = np.arange(0, 100).reshape(-1, 1)  # make X a 100 x 1 matrix\n",
        "T = 0.5 + 0.3 * X + 0.005 * (X - 50) ** 2\n",
        "plt.plot(X, T, '.')\n",
        "plt.xlabel('X')\n",
        "plt.ylabel('T');"
      ]
    },
    {
      "cell_type": "code",
      "execution_count": 39,
      "metadata": {
        "colab": {
          "base_uri": "https://localhost:8080/"
        },
        "id": "BSHEkyBi_Rhw",
        "outputId": "f8be3e72-b59d-4cec-884f-2798dcb36bdb"
      },
      "outputs": [
        {
          "output_type": "stream",
          "name": "stdout",
          "text": [
            "before train():  (100, 1)\n",
            "Epoch 5 RMSE 0.40\n",
            "Epoch 10 RMSE 0.40\n",
            "Epoch 15 RMSE 0.40\n",
            "Epoch 20 RMSE 0.40\n",
            "Epoch 25 RMSE 0.40\n",
            "Epoch 30 RMSE 0.40\n",
            "Epoch 35 RMSE 0.40\n",
            "Epoch 40 RMSE 0.40\n",
            "Epoch 45 RMSE 0.40\n",
            "Epoch 50 RMSE 0.40\n",
            "after train():  (100, 1)\n"
          ]
        },
        {
          "output_type": "execute_result",
          "data": {
            "text/plain": [
              "{'Tmeans': array([19.5175]),\n",
              " 'Tstds': array([9.29491938]),\n",
              " 'Xmeans': array([49.5]),\n",
              " 'Xstds': array([28.86607005]),\n",
              " 'w': array([[-0.00576098],\n",
              "        [ 1.05433338]])}"
            ]
          },
          "metadata": {},
          "execution_count": 39
        }
      ],
      "source": [
        "print(\"before train(): \", X.shape)\n",
        "model = train(X, T, 0.01, 50, verbose=True)\n",
        "print(\"after train(): \", X.shape)\n",
        "model"
      ]
    },
    {
      "cell_type": "code",
      "execution_count": 40,
      "metadata": {
        "colab": {
          "base_uri": "https://localhost:8080/",
          "height": 282
        },
        "id": "rBCkm1nh_Rhw",
        "outputId": "a258fd91-4a68-44c7-fc34-04eafa546afc"
      },
      "outputs": [
        {
          "output_type": "execute_result",
          "data": {
            "text/plain": [
              "<matplotlib.legend.Legend at 0x7f95971268d0>"
            ]
          },
          "metadata": {},
          "execution_count": 40
        },
        {
          "output_type": "display_data",
          "data": {
            "image/png": "[encoded data removed]",
            "text/plain": [
              "<Figure size 432x288 with 1 Axes>"
            ]
          },
          "metadata": {
            "needs_background": "light"
          }
        }
      ],
      "source": [
        "Y = use(X, model)\n",
        "plt.plot(T, '.', label='T')\n",
        "plt.plot(Y, '.', label='Y')\n",
        "plt.legend()"
      ]
    },
    {
      "cell_type": "code",
      "execution_count": 41,
      "metadata": {
        "colab": {
          "base_uri": "https://localhost:8080/",
          "height": 296
        },
        "id": "wJJvjNXW_Rhx",
        "outputId": "24e509e1-330b-43d0-8aed-5af2dc090db3"
      },
      "outputs": [
        {
          "output_type": "execute_result",
          "data": {
            "text/plain": [
              "[<matplotlib.lines.Line2D at 0x7f9597023410>]"
            ]
          },
          "metadata": {},
          "execution_count": 41
        },
        {
          "output_type": "display_data",
          "data": {
            "image/png": "[encoded data removed]",
            "text/plain": [
              "<Figure size 432x288 with 1 Axes>"
            ]
          },
          "metadata": {
            "needs_background": "light"
          }
        }
      ],
      "source": [
        "plt.plot(Y[:, 0], T[:, 0], 'o')\n",
        "plt.xlabel('Predicted')\n",
        "plt.ylabel('Actual')\n",
        "a = max(min(Y[:, 0]), min(T[:, 0]))\n",
        "b = min(max(Y[:, 0]), max(T[:, 0]))\n",
        "plt.plot([a, b], [a, b], 'r', linewidth=3)"
      ]
    },
    {
      "cell_type": "markdown",
      "metadata": {
        "id": "B49F-khn_Rhx"
      },
      "source": [
        "## Weather Data"
      ]
    },
    {
      "cell_type": "markdown",
      "metadata": {
        "id": "kQjq8W9k_Rhx"
      },
      "source": [
        "Now that your functions are working, we can apply them to some real data. We will use data\n",
        "from  [CSU's CoAgMet Station Daily Data Access](http://coagmet.colostate.edu/cgi-bin/dailydata_form.pl).\n",
        "\n",
        "You can get the data file [here](http://www.cs.colostate.edu/~cs445/notebooks/A1_data.txt)"
      ]
    },
    {
      "cell_type": "markdown",
      "metadata": {
        "id": "hXtgtZzN_Rhy"
      },
      "source": [
        "## 5 points:\n",
        "\n",
        "Read in the data into variable `df` using `pandas.read_csv` like we did in lecture notes.\n",
        "Missing values in this dataset are indicated by the string `'***'`."
      ]
    },
    {
      "cell_type": "code",
      "execution_count": 42,
      "metadata": {
        "colab": {
          "base_uri": "https://localhost:8080/",
          "height": 468
        },
        "id": "qsxmDrFI_Rhy",
        "outputId": "49874eba-e893-4364-8d70-319170dcddeb"
      },
      "outputs": [
        {
          "output_type": "execute_result",
          "data": {
            "text/html": [
              "\n",
              "  <div id=\"df-7bc52050-41a2-464c-8caf-b70a0656c18f\">\n",
              "    <div class=\"colab-df-container\">\n",
              "      <div>\n",
              "<style scoped>\n",
              "    .dataframe tbody tr th:only-of-type {\n",
              "        vertical-align: middle;\n",
              "    }\n",
              "\n",
              "    .dataframe tbody tr th {\n",
              "        vertical-align: top;\n",
              "    }\n",
              "\n",
              "    .dataframe thead th {\n",
              "        text-align: right;\n",
              "    }\n",
              "</style>\n",
              "<table border=\"1\" class=\"dataframe\">\n",
              "  <thead>\n",
              "    <tr style=\"text-align: right;\">\n",
              "      <th></th>\n",
              "      <th>Year</th>\n",
              "      <th>Mo</th>\n",
              "      <th>Dy</th>\n",
              "      <th>tave</th>\n",
              "      <th>tmax</th>\n",
              "      <th>mxtm</th>\n",
              "      <th>tmin</th>\n",
              "      <th>mntm</th>\n",
              "      <th>vp</th>\n",
              "      <th>rhmax</th>\n",
              "      <th>rhmxtm</th>\n",
              "      <th>rhmin</th>\n",
              "      <th>rhmntm</th>\n",
              "      <th>sr</th>\n",
              "      <th>wrun</th>\n",
              "      <th>pp</th>\n",
              "      <th>st5mx</th>\n",
              "      <th>st5mxtm</th>\n",
              "      <th>st5mn</th>\n",
              "      <th>st5mntm</th>\n",
              "      <th>st15mx</th>\n",
              "      <th>st15mxtm</th>\n",
              "      <th>st15mn</th>\n",
              "      <th>st15mntm</th>\n",
              "      <th>volts</th>\n",
              "      <th>year</th>\n",
              "      <th>gust</th>\n",
              "      <th>gusttm</th>\n",
              "      <th>gusdir</th>\n",
              "      <th>etr_asce</th>\n",
              "    </tr>\n",
              "  </thead>\n",
              "  <tbody>\n",
              "    <tr>\n",
              "      <th>0</th>\n",
              "      <td>2019</td>\n",
              "      <td>1</td>\n",
              "      <td>1</td>\n",
              "      <td>-13.535</td>\n",
              "      <td>-10.073</td>\n",
              "      <td>14:10</td>\n",
              "      <td>-16.997</td>\n",
              "      <td>23:50</td>\n",
              "      <td>0.153</td>\n",
              "      <td>0.830</td>\n",
              "      <td>05:10</td>\n",
              "      <td>0.595</td>\n",
              "      <td>15:00</td>\n",
              "      <td>5.319</td>\n",
              "      <td>62.924</td>\n",
              "      <td>0.000</td>\n",
              "      <td>NaN</td>\n",
              "      <td>NaN</td>\n",
              "      <td>NaN</td>\n",
              "      <td>NaN</td>\n",
              "      <td>-1.803</td>\n",
              "      <td>00:00</td>\n",
              "      <td>-3.195</td>\n",
              "      <td>23:00</td>\n",
              "      <td>NaN</td>\n",
              "      <td>2019.0</td>\n",
              "      <td>5.155</td>\n",
              "      <td>08:10</td>\n",
              "      <td>NaN</td>\n",
              "      <td>0.324</td>\n",
              "    </tr>\n",
              "    <tr>\n",
              "      <th>1</th>\n",
              "      <td>2019</td>\n",
              "      <td>1</td>\n",
              "      <td>2</td>\n",
              "      <td>-5.791</td>\n",
              "      <td>6.010</td>\n",
              "      <td>14:50</td>\n",
              "      <td>-17.591</td>\n",
              "      <td>04:00</td>\n",
              "      <td>0.209</td>\n",
              "      <td>0.839</td>\n",
              "      <td>04:20</td>\n",
              "      <td>0.216</td>\n",
              "      <td>15:10</td>\n",
              "      <td>7.388</td>\n",
              "      <td>27.234</td>\n",
              "      <td>0.508</td>\n",
              "      <td>NaN</td>\n",
              "      <td>NaN</td>\n",
              "      <td>NaN</td>\n",
              "      <td>NaN</td>\n",
              "      <td>-2.941</td>\n",
              "      <td>19:00</td>\n",
              "      <td>-4.802</td>\n",
              "      <td>11:00</td>\n",
              "      <td>NaN</td>\n",
              "      <td>2019.0</td>\n",
              "      <td>4.332</td>\n",
              "      <td>11:50</td>\n",
              "      <td>NaN</td>\n",
              "      <td>0.521</td>\n",
              "    </tr>\n",
              "    <tr>\n",
              "      <th>2</th>\n",
              "      <td>2019</td>\n",
              "      <td>1</td>\n",
              "      <td>3</td>\n",
              "      <td>1.374</td>\n",
              "      <td>13.444</td>\n",
              "      <td>13:50</td>\n",
              "      <td>-10.696</td>\n",
              "      <td>05:00</td>\n",
              "      <td>0.340</td>\n",
              "      <td>0.836</td>\n",
              "      <td>01:50</td>\n",
              "      <td>0.175</td>\n",
              "      <td>13:30</td>\n",
              "      <td>6.529</td>\n",
              "      <td>28.465</td>\n",
              "      <td>0.000</td>\n",
              "      <td>NaN</td>\n",
              "      <td>NaN</td>\n",
              "      <td>NaN</td>\n",
              "      <td>NaN</td>\n",
              "      <td>-1.979</td>\n",
              "      <td>22:00</td>\n",
              "      <td>-4.639</td>\n",
              "      <td>10:00</td>\n",
              "      <td>NaN</td>\n",
              "      <td>2019.0</td>\n",
              "      <td>4.096</td>\n",
              "      <td>15:40</td>\n",
              "      <td>NaN</td>\n",
              "      <td>0.729</td>\n",
              "    </tr>\n",
              "    <tr>\n",
              "      <th>3</th>\n",
              "      <td>2019</td>\n",
              "      <td>1</td>\n",
              "      <td>4</td>\n",
              "      <td>4.544</td>\n",
              "      <td>15.089</td>\n",
              "      <td>14:40</td>\n",
              "      <td>-6.000</td>\n",
              "      <td>06:00</td>\n",
              "      <td>0.429</td>\n",
              "      <td>0.815</td>\n",
              "      <td>06:00</td>\n",
              "      <td>0.202</td>\n",
              "      <td>14:30</td>\n",
              "      <td>6.202</td>\n",
              "      <td>36.616</td>\n",
              "      <td>0.000</td>\n",
              "      <td>NaN</td>\n",
              "      <td>NaN</td>\n",
              "      <td>NaN</td>\n",
              "      <td>NaN</td>\n",
              "      <td>-0.963</td>\n",
              "      <td>23:00</td>\n",
              "      <td>-2.768</td>\n",
              "      <td>10:00</td>\n",
              "      <td>NaN</td>\n",
              "      <td>2019.0</td>\n",
              "      <td>4.096</td>\n",
              "      <td>12:30</td>\n",
              "      <td>NaN</td>\n",
              "      <td>0.893</td>\n",
              "    </tr>\n",
              "    <tr>\n",
              "      <th>4</th>\n",
              "      <td>2019</td>\n",
              "      <td>1</td>\n",
              "      <td>5</td>\n",
              "      <td>4.465</td>\n",
              "      <td>14.441</td>\n",
              "      <td>12:50</td>\n",
              "      <td>-5.510</td>\n",
              "      <td>06:40</td>\n",
              "      <td>0.399</td>\n",
              "      <td>0.769</td>\n",
              "      <td>06:50</td>\n",
              "      <td>0.184</td>\n",
              "      <td>14:00</td>\n",
              "      <td>5.931</td>\n",
              "      <td>34.283</td>\n",
              "      <td>0.000</td>\n",
              "      <td>NaN</td>\n",
              "      <td>NaN</td>\n",
              "      <td>NaN</td>\n",
              "      <td>NaN</td>\n",
              "      <td>-0.350</td>\n",
              "      <td>23:00</td>\n",
              "      <td>-1.401</td>\n",
              "      <td>11:00</td>\n",
              "      <td>NaN</td>\n",
              "      <td>2019.0</td>\n",
              "      <td>4.077</td>\n",
              "      <td>12:20</td>\n",
              "      <td>NaN</td>\n",
              "      <td>0.867</td>\n",
              "    </tr>\n",
              "    <tr>\n",
              "      <th>...</th>\n",
              "      <td>...</td>\n",
              "      <td>...</td>\n",
              "      <td>...</td>\n",
              "      <td>...</td>\n",
              "      <td>...</td>\n",
              "      <td>...</td>\n",
              "      <td>...</td>\n",
              "      <td>...</td>\n",
              "      <td>...</td>\n",
              "      <td>...</td>\n",
              "      <td>...</td>\n",
              "      <td>...</td>\n",
              "      <td>...</td>\n",
              "      <td>...</td>\n",
              "      <td>...</td>\n",
              "      <td>...</td>\n",
              "      <td>...</td>\n",
              "      <td>...</td>\n",
              "      <td>...</td>\n",
              "      <td>...</td>\n",
              "      <td>...</td>\n",
              "      <td>...</td>\n",
              "      <td>...</td>\n",
              "      <td>...</td>\n",
              "      <td>...</td>\n",
              "      <td>...</td>\n",
              "      <td>...</td>\n",
              "      <td>...</td>\n",
              "      <td>...</td>\n",
              "      <td>...</td>\n",
              "    </tr>\n",
              "    <tr>\n",
              "      <th>360</th>\n",
              "      <td>2019</td>\n",
              "      <td>12</td>\n",
              "      <td>27</td>\n",
              "      <td>-1.493</td>\n",
              "      <td>2.260</td>\n",
              "      <td>14:40</td>\n",
              "      <td>-5.245</td>\n",
              "      <td>07:30</td>\n",
              "      <td>0.403</td>\n",
              "      <td>0.908</td>\n",
              "      <td>21:20</td>\n",
              "      <td>0.565</td>\n",
              "      <td>10:30</td>\n",
              "      <td>4.255</td>\n",
              "      <td>34.897</td>\n",
              "      <td>0.000</td>\n",
              "      <td>NaN</td>\n",
              "      <td>NaN</td>\n",
              "      <td>NaN</td>\n",
              "      <td>NaN</td>\n",
              "      <td>0.308</td>\n",
              "      <td>06:00</td>\n",
              "      <td>0.257</td>\n",
              "      <td>14:00</td>\n",
              "      <td>NaN</td>\n",
              "      <td>2019.0</td>\n",
              "      <td>4.469</td>\n",
              "      <td>16:00</td>\n",
              "      <td>NaN</td>\n",
              "      <td>0.473</td>\n",
              "    </tr>\n",
              "    <tr>\n",
              "      <th>361</th>\n",
              "      <td>2019</td>\n",
              "      <td>12</td>\n",
              "      <td>28</td>\n",
              "      <td>-2.695</td>\n",
              "      <td>-1.102</td>\n",
              "      <td>01:50</td>\n",
              "      <td>-4.288</td>\n",
              "      <td>07:00</td>\n",
              "      <td>0.363</td>\n",
              "      <td>0.973</td>\n",
              "      <td>04:00</td>\n",
              "      <td>0.477</td>\n",
              "      <td>22:30</td>\n",
              "      <td>2.994</td>\n",
              "      <td>108.310</td>\n",
              "      <td>0.000</td>\n",
              "      <td>NaN</td>\n",
              "      <td>NaN</td>\n",
              "      <td>NaN</td>\n",
              "      <td>NaN</td>\n",
              "      <td>0.298</td>\n",
              "      <td>20:00</td>\n",
              "      <td>0.264</td>\n",
              "      <td>10:00</td>\n",
              "      <td>NaN</td>\n",
              "      <td>2019.0</td>\n",
              "      <td>10.623</td>\n",
              "      <td>12:20</td>\n",
              "      <td>NaN</td>\n",
              "      <td>0.681</td>\n",
              "    </tr>\n",
              "    <tr>\n",
              "      <th>362</th>\n",
              "      <td>2019</td>\n",
              "      <td>12</td>\n",
              "      <td>29</td>\n",
              "      <td>-3.731</td>\n",
              "      <td>1.871</td>\n",
              "      <td>13:30</td>\n",
              "      <td>-9.333</td>\n",
              "      <td>22:40</td>\n",
              "      <td>0.221</td>\n",
              "      <td>0.690</td>\n",
              "      <td>22:50</td>\n",
              "      <td>0.267</td>\n",
              "      <td>15:50</td>\n",
              "      <td>5.551</td>\n",
              "      <td>104.831</td>\n",
              "      <td>4.064</td>\n",
              "      <td>NaN</td>\n",
              "      <td>NaN</td>\n",
              "      <td>NaN</td>\n",
              "      <td>NaN</td>\n",
              "      <td>0.288</td>\n",
              "      <td>00:00</td>\n",
              "      <td>0.219</td>\n",
              "      <td>23:00</td>\n",
              "      <td>NaN</td>\n",
              "      <td>2019.0</td>\n",
              "      <td>11.486</td>\n",
              "      <td>07:10</td>\n",
              "      <td>NaN</td>\n",
              "      <td>1.039</td>\n",
              "    </tr>\n",
              "    <tr>\n",
              "      <th>363</th>\n",
              "      <td>2019</td>\n",
              "      <td>12</td>\n",
              "      <td>30</td>\n",
              "      <td>-5.427</td>\n",
              "      <td>1.293</td>\n",
              "      <td>13:40</td>\n",
              "      <td>-12.147</td>\n",
              "      <td>06:20</td>\n",
              "      <td>0.226</td>\n",
              "      <td>0.833</td>\n",
              "      <td>06:50</td>\n",
              "      <td>0.278</td>\n",
              "      <td>12:00</td>\n",
              "      <td>6.694</td>\n",
              "      <td>36.863</td>\n",
              "      <td>0.508</td>\n",
              "      <td>NaN</td>\n",
              "      <td>NaN</td>\n",
              "      <td>NaN</td>\n",
              "      <td>NaN</td>\n",
              "      <td>0.200</td>\n",
              "      <td>00:00</td>\n",
              "      <td>-0.150</td>\n",
              "      <td>23:00</td>\n",
              "      <td>NaN</td>\n",
              "      <td>2019.0</td>\n",
              "      <td>4.586</td>\n",
              "      <td>14:30</td>\n",
              "      <td>NaN</td>\n",
              "      <td>0.504</td>\n",
              "    </tr>\n",
              "    <tr>\n",
              "      <th>364</th>\n",
              "      <td>2019</td>\n",
              "      <td>12</td>\n",
              "      <td>31</td>\n",
              "      <td>-4.175</td>\n",
              "      <td>4.810</td>\n",
              "      <td>13:10</td>\n",
              "      <td>-13.160</td>\n",
              "      <td>06:50</td>\n",
              "      <td>0.247</td>\n",
              "      <td>0.862</td>\n",
              "      <td>06:10</td>\n",
              "      <td>0.241</td>\n",
              "      <td>12:50</td>\n",
              "      <td>7.418</td>\n",
              "      <td>29.557</td>\n",
              "      <td>0.000</td>\n",
              "      <td>NaN</td>\n",
              "      <td>NaN</td>\n",
              "      <td>NaN</td>\n",
              "      <td>NaN</td>\n",
              "      <td>-0.174</td>\n",
              "      <td>00:00</td>\n",
              "      <td>-0.917</td>\n",
              "      <td>13:00</td>\n",
              "      <td>NaN</td>\n",
              "      <td>2019.0</td>\n",
              "      <td>5.566</td>\n",
              "      <td>18:40</td>\n",
              "      <td>NaN</td>\n",
              "      <td>0.503</td>\n",
              "    </tr>\n",
              "  </tbody>\n",
              "</table>\n",
              "<p>365 rows × 30 columns</p>\n",
              "</div>\n",
              "      <button class=\"colab-df-convert\" onclick=\"convertToInteractive('df-7bc52050-41a2-464c-8caf-b70a0656c18f')\"\n",
              "              title=\"Convert this dataframe to an interactive table.\"\n",
              "              style=\"display:none;\">\n",
              "        \n",
              "  <svg xmlns=\"http://www.w3.org/2000/svg\" height=\"24px\"viewBox=\"0 0 24 24\"\n",
              "       width=\"24px\">\n",
              "    <path d=\"M0 0h24v24H0V0z\" fill=\"none\"/>\n",
              "    <path d=\"M18.56 5.44l.94 2.06.94-2.06 2.06-.94-2.06-.94-.94-2.06-.94 2.06-2.06.94zm-11 1L8.5 8.5l.94-2.06 2.06-.94-2.06-.94L8.5 2.5l-.94 2.06-2.06.94zm10 10l.94 2.06.94-2.06 2.06-.94-2.06-.94-.94-2.06-.94 2.06-2.06.94z\"/><path d=\"M17.41 7.96l-1.37-1.37c-.4-.4-.92-.59-1.43-.59-.52 0-1.04.2-1.43.59L10.3 9.45l-7.72 7.72c-.78.78-.78 2.05 0 2.83L4 21.41c.39.39.9.59 1.41.59.51 0 1.02-.2 1.41-.59l7.78-7.78 2.81-2.81c.8-.78.8-2.07 0-2.86zM5.41 20L4 18.59l7.72-7.72 1.47 1.35L5.41 20z\"/>\n",
              "  </svg>\n",
              "      </button>\n",
              "      \n",
              "  <style>\n",
              "    .colab-df-container {\n",
              "      display:flex;\n",
              "      flex-wrap:wrap;\n",
              "      gap: 12px;\n",
              "    }\n",
              "\n",
              "    .colab-df-convert {\n",
              "      background-color: #E8F0FE;\n",
              "      border: none;\n",
              "      border-radius: 50%;\n",
              "      cursor: pointer;\n",
              "      display: none;\n",
              "      fill: #1967D2;\n",
              "      height: 32px;\n",
              "      padding: 0 0 0 0;\n",
              "      width: 32px;\n",
              "    }\n",
              "\n",
              "    .colab-df-convert:hover {\n",
              "      background-color: #E2EBFA;\n",
              "      box-shadow: 0px 1px 2px rgba(60, 64, 67, 0.3), 0px 1px 3px 1px rgba(60, 64, 67, 0.15);\n",
              "      fill: #174EA6;\n",
              "    }\n",
              "\n",
              "    [theme=dark] .colab-df-convert {\n",
              "      background-color: #3B4455;\n",
              "      fill: #D2E3FC;\n",
              "    }\n",
              "\n",
              "    [theme=dark] .colab-df-convert:hover {\n",
              "      background-color: #434B5C;\n",
              "      box-shadow: 0px 1px 3px 1px rgba(0, 0, 0, 0.15);\n",
              "      filter: drop-shadow(0px 1px 2px rgba(0, 0, 0, 0.3));\n",
              "      fill: #FFFFFF;\n",
              "    }\n",
              "  </style>\n",
              "\n",
              "      <script>\n",
              "        const buttonEl =\n",
              "          document.querySelector('#df-7bc52050-41a2-464c-8caf-b70a0656c18f button.colab-df-convert');\n",
              "        buttonEl.style.display =\n",
              "          google.colab.kernel.accessAllowed ? 'block' : 'none';\n",
              "\n",
              "        async function convertToInteractive(key) {\n",
              "          const element = document.querySelector('#df-7bc52050-41a2-464c-8caf-b70a0656c18f');\n",
              "          const dataTable =\n",
              "            await google.colab.kernel.invokeFunction('convertToInteractive',\n",
              "                                                     [key], {});\n",
              "          if (!dataTable) return;\n",
              "\n",
              "          const docLinkHtml = 'Like what you see? Visit the ' +\n",
              "            '<a target=\"_blank\" href=https://colab.research.google.com/notebooks/data_table.ipynb>data table notebook</a>'\n",
              "            + ' to learn more about interactive tables.';\n",
              "          element.innerHTML = '';\n",
              "          dataTable['output_type'] = 'display_data';\n",
              "          await google.colab.output.renderOutput(dataTable, element);\n",
              "          const docLink = document.createElement('div');\n",
              "          docLink.innerHTML = docLinkHtml;\n",
              "          element.appendChild(docLink);\n",
              "        }\n",
              "      </script>\n",
              "    </div>\n",
              "  </div>\n",
              "  "
            ],
            "text/plain": [
              "     Year  Mo  Dy    tave    tmax  ...    year    gust gusttm  gusdir  etr_asce\n",
              "0    2019   1   1 -13.535 -10.073  ...  2019.0   5.155  08:10     NaN     0.324\n",
              "1    2019   1   2  -5.791   6.010  ...  2019.0   4.332  11:50     NaN     0.521\n",
              "2    2019   1   3   1.374  13.444  ...  2019.0   4.096  15:40     NaN     0.729\n",
              "3    2019   1   4   4.544  15.089  ...  2019.0   4.096  12:30     NaN     0.893\n",
              "4    2019   1   5   4.465  14.441  ...  2019.0   4.077  12:20     NaN     0.867\n",
              "..    ...  ..  ..     ...     ...  ...     ...     ...    ...     ...       ...\n",
              "360  2019  12  27  -1.493   2.260  ...  2019.0   4.469  16:00     NaN     0.473\n",
              "361  2019  12  28  -2.695  -1.102  ...  2019.0  10.623  12:20     NaN     0.681\n",
              "362  2019  12  29  -3.731   1.871  ...  2019.0  11.486  07:10     NaN     1.039\n",
              "363  2019  12  30  -5.427   1.293  ...  2019.0   4.586  14:30     NaN     0.504\n",
              "364  2019  12  31  -4.175   4.810  ...  2019.0   5.566  18:40     NaN     0.503\n",
              "\n",
              "[365 rows x 30 columns]"
            ]
          },
          "metadata": {},
          "execution_count": 42
        }
      ],
      "source": [
        "df = pd.read_csv('A1_data.txt', delim_whitespace=True, na_values='***')\n",
        "df"
      ]
    },
    {
      "cell_type": "markdown",
      "metadata": {
        "id": "fr09kDnF_Rhy"
      },
      "source": [
        "## 5 points:\n",
        "\n",
        "Check for missing values by showing the number of NA values, as shown in lecture notes."
      ]
    },
    {
      "cell_type": "code",
      "execution_count": 43,
      "metadata": {
        "colab": {
          "base_uri": "https://localhost:8080/"
        },
        "id": "DdzMDW4z_Rhy",
        "outputId": "2f16cff6-70cf-4723-e0d1-b12eee23f5e0"
      },
      "outputs": [
        {
          "output_type": "execute_result",
          "data": {
            "text/plain": [
              "Year          0\n",
              "Mo            0\n",
              "Dy            0\n",
              "tave          0\n",
              "tmax          0\n",
              "mxtm          0\n",
              "tmin          0\n",
              "mntm          0\n",
              "vp            0\n",
              "rhmax         0\n",
              "rhmxtm        0\n",
              "rhmin         0\n",
              "rhmntm        0\n",
              "sr            0\n",
              "wrun          0\n",
              "pp            0\n",
              "st5mx       211\n",
              "st5mxtm     211\n",
              "st5mn       211\n",
              "st5mntm     211\n",
              "st15mx        0\n",
              "st15mxtm      0\n",
              "st15mn        0\n",
              "st15mntm      0\n",
              "volts       365\n",
              "year          0\n",
              "gust          0\n",
              "gusttm        0\n",
              "gusdir      365\n",
              "etr_asce      0\n",
              "dtype: int64"
            ]
          },
          "metadata": {},
          "execution_count": 43
        }
      ],
      "source": [
        "df.isna().sum()"
      ]
    },
    {
      "cell_type": "markdown",
      "metadata": {
        "id": "UWB70qqX_Rhy"
      },
      "source": [
        "## 5 points:\n",
        "\n",
        "If there are missing values, remove either samples or features that contain missing values. Prove that you\n",
        "were successful by counting the number of missing values now, which should be zero."
      ]
    },
    {
      "cell_type": "code",
      "execution_count": 44,
      "metadata": {
        "colab": {
          "base_uri": "https://localhost:8080/"
        },
        "id": "ftvWOVji_Rhz",
        "outputId": "1354f283-1d1d-434e-a6a5-646a540b7407"
      },
      "outputs": [
        {
          "output_type": "execute_result",
          "data": {
            "text/plain": [
              "Year        0\n",
              "Mo          0\n",
              "Dy          0\n",
              "tave        0\n",
              "tmax        0\n",
              "mxtm        0\n",
              "tmin        0\n",
              "mntm        0\n",
              "vp          0\n",
              "rhmax       0\n",
              "rhmxtm      0\n",
              "rhmin       0\n",
              "rhmntm      0\n",
              "sr          0\n",
              "wrun        0\n",
              "pp          0\n",
              "st15mx      0\n",
              "st15mxtm    0\n",
              "st15mn      0\n",
              "st15mntm    0\n",
              "year        0\n",
              "gust        0\n",
              "gusttm      0\n",
              "etr_asce    0\n",
              "dtype: int64"
            ]
          },
          "metadata": {},
          "execution_count": 44
        }
      ],
      "source": [
        "df = df.dropna(axis='columns')\n",
        "df.isna().sum()"
      ]
    },
    {
      "cell_type": "markdown",
      "metadata": {
        "id": "BhjS5BBe_Rhz"
      },
      "source": [
        "Your job is now to create a linear model that predicts the next day's average temperature (tave) from the previous day's values. A discription of all features can be found [here](https://coagmet.colostate.edu/rawdata_docs.php). To start, consider just focusing on these features: \n",
        "1. tave: average temperature\n",
        "2. tmax: maximum temperature\n",
        "3. tmin: minimum temperature\n",
        "4. vp: vapor pressure\n",
        "5. rhmax: maximum relative humidity\n",
        "6. rhmin: minimum relative humidity\n",
        "7. pp: precipitation\n",
        "8. gust: wind gust speed\n",
        "\n",
        "First, modify the datafile to add a new column: 'next tave' -- here's a hint on your X and T vectors names:"
      ]
    },
    {
      "cell_type": "code",
      "execution_count": 45,
      "metadata": {
        "id": "8JWugocx_Rhz"
      },
      "outputs": [],
      "source": [
        "Xnames = ['tave', 'tmax', 'tmin', 'vp', 'rhmax', 'rhmin', 'pp', 'gust']\n",
        "Tnames = ['next tave']"
      ]
    },
    {
      "cell_type": "markdown",
      "metadata": {
        "id": "HCIsztwq_Rh0"
      },
      "source": [
        "## 5 points:\n",
        "\n",
        "Now select those eight columns from `df` and convert the result to a `numpy` array.  (Easier than it sounds.)\n",
        "Then assign `X` to be all columns and all but the last row.  Assign `T` to be just the first column (tave) and all but the first sample.  So now the first row (sample) in `X` is associated with the first row (sample) in `T` which tave for the following day."
      ]
    },
    {
      "cell_type": "code",
      "execution_count": 46,
      "metadata": {
        "id": "_PkJuqFD_Rh0"
      },
      "outputs": [],
      "source": [
        "# grab the 8 columns above\n",
        "df = df[Xnames]\n",
        "X = np.array(df)\n",
        "T = X[1:,0].reshape(X.shape[0]-1, 1)\n",
        "X = X[:-1, :]\n",
        "\n"
      ]
    },
    {
      "cell_type": "markdown",
      "metadata": {
        "id": "AzKQp_jO_Rh1"
      },
      "source": [
        "## 15 points:\n",
        "\n",
        "Use the function `train` to train a model for the `X`\n",
        "and `T` data.  Run it several times with different `learning_rate`\n",
        "and `n_epochs` values to produce decreasing errors. Use the `use`\n",
        "function and plots of `T` versus predicted `Y` values to show how\n",
        "well the model is working.  Type your observations of the plot and of the value of `rmse` to discuss how well the model succeeds."
      ]
    },
    {
      "cell_type": "markdown",
      "source": [
        "Below I have 7 of the 20+ models I ran with different hyperparamters. The one that is not commented out resulted in the lowest RMSE. I wanted to grasp most conditions by doing a descending learning rate and an ascending epoch, so that each model would find the lowest RMSE where it bottomed out and no longer became better. I could have automated this with for loops but fealt that it was not needed since the training of this model is very quick and it will not really reach a lower RMSE value without overfitting the data."
      ],
      "metadata": {
        "id": "Cv2Ba-SgajZO"
      }
    },
    {
      "cell_type": "code",
      "execution_count": 75,
      "metadata": {
        "id": "C8zdwB1F_Rh1",
        "colab": {
          "base_uri": "https://localhost:8080/",
          "height": 456
        },
        "outputId": "e981bae5-4664-450d-fac2-04f4058e3ded"
      },
      "outputs": [
        {
          "output_type": "stream",
          "name": "stdout",
          "text": [
            "Epoch 500 RMSE 0.57\n",
            "Epoch 1000 RMSE 0.41\n",
            "Epoch 1500 RMSE 0.36\n",
            "Epoch 2000 RMSE 0.35\n",
            "Epoch 2500 RMSE 0.34\n",
            "Epoch 3000 RMSE 0.34\n",
            "Epoch 3500 RMSE 0.34\n",
            "Epoch 4000 RMSE 0.33\n",
            "Epoch 4500 RMSE 0.33\n",
            "Epoch 5000 RMSE 0.33\n"
          ]
        },
        {
          "output_type": "execute_result",
          "data": {
            "text/plain": [
              "<matplotlib.legend.Legend at 0x7f95965ddf50>"
            ]
          },
          "metadata": {},
          "execution_count": 75
        },
        {
          "output_type": "display_data",
          "data": {
            "image/png": "[encoded data removed]",
            "text/plain": [
              "<Figure size 432x288 with 1 Axes>"
            ]
          },
          "metadata": {
            "needs_background": "light"
          }
        }
      ],
      "source": [
        "#weatherModel1 = train(X, T, 0.01, 3, verbose=True)\n",
        "#weatherModel1 = train(X, T, 0.001, 8, verbose=True)\n",
        "#weatherModel1 = train(X, T, 0.0001, 25, verbose=True)\n",
        "#weatherModel1 = train(X, T, 0.00008, 30, verbose=True)\n",
        "#weatherModel1 = train(X, T, 0.00001, 220, verbose=True)\n",
        "weatherModel1 = train(X, T, 0.000001, 5000, verbose=True)\n",
        "#weatherModel1 = train(X, T, 0.0000001, 20000, verbose=True)\n",
        "\n",
        "predicted = use(X, weatherModel1)\n",
        "plt.plot(T, '.', label='True Values')\n",
        "plt.plot(predicted, '.', label='Predicted')\n",
        "plt.legend()\n"
      ]
    },
    {
      "cell_type": "code",
      "source": [
        "plt.plot(predicted[:, 0], T[:, 0], 'o')\n",
        "plt.xlabel('Predicted')\n",
        "plt.ylabel('Actual')\n",
        "a = max(min(predicted[:, 0]), min(T[:, 0]))\n",
        "b = min(max(predicted[:, 0]), max(T[:, 0]))\n",
        "plt.plot([a, b], [a, b], 'r', linewidth=3)"
      ],
      "metadata": {
        "colab": {
          "base_uri": "https://localhost:8080/",
          "height": 296
        },
        "id": "jmdy1bLGN0pL",
        "outputId": "b1862537-e34a-430f-8458-300918e2d09e"
      },
      "execution_count": 76,
      "outputs": [
        {
          "output_type": "execute_result",
          "data": {
            "text/plain": [
              "[<matplotlib.lines.Line2D at 0x7f95964d5350>]"
            ]
          },
          "metadata": {},
          "execution_count": 76
        },
        {
          "output_type": "display_data",
          "data": {
            "image/png": "[encoded data removed]",
            "text/plain": [
              "<Figure size 432x288 with 1 Axes>"
            ]
          },
          "metadata": {
            "needs_background": "light"
          }
        }
      ]
    },
    {
      "cell_type": "code",
      "source": [
        "print(\"Weather Model RMSE:\", rmse(predicted, T))"
      ],
      "metadata": {
        "colab": {
          "base_uri": "https://localhost:8080/"
        },
        "id": "6KtoL5b2RfZu",
        "outputId": "3d780c17-5344-4e0e-d056-855d44e45264"
      },
      "execution_count": 77,
      "outputs": [
        {
          "output_type": "stream",
          "name": "stdout",
          "text": [
            "Weather Model RMSE: 3.3330048782223787\n"
          ]
        }
      ]
    },
    {
      "cell_type": "markdown",
      "source": [
        "The model performs fairly well in my opinion. We are achieving a RMSE of 3.4, which is low considering we are predicting temperatures. If you take a look at the second plot (with the red line), you will see a x to y relation that is very linear. A RMSE of 0 would result in all the blue dots being on the red line. However, that is not very realistic and we have the majority of our data points centered very close to the line and in a linear fashion. This bodes well that our model is going to be fairly successful in predicting the weather. This could be better."
      ],
      "metadata": {
        "id": "j2By5vHKSN97"
      }
    },
    {
      "cell_type": "markdown",
      "metadata": {
        "id": "ZXfh1EEl_Rh2"
      },
      "source": [
        "## 5 points:\n",
        "\n",
        "Print the weight values in the resulting model along with their corresponding variable names (in `Xnames`). Use the relative magnitude\n",
        "of the weight values to discuss which input variables are most significant in predicting the changes in the tave values."
      ]
    },
    {
      "cell_type": "code",
      "source": [
        "weights = np.array((weatherModel1['w'][1:]))\n",
        "weightDF = pd.DataFrame(weights).T\n",
        "weightDF.columns = Xnames\n",
        "weightDF"
      ],
      "metadata": {
        "colab": {
          "base_uri": "https://localhost:8080/",
          "height": 81
        },
        "id": "sUOWwRtpVMx2",
        "outputId": "ace1f282-3a4d-4abc-ed32-369de50df68e"
      },
      "execution_count": 30,
      "outputs": [
        {
          "output_type": "execute_result",
          "data": {
            "text/html": [
              "\n",
              "  <div id=\"df-453bce10-6774-4951-9348-c8f7659cabe5\">\n",
              "    <div class=\"colab-df-container\">\n",
              "      <div>\n",
              "<style scoped>\n",
              "    .dataframe tbody tr th:only-of-type {\n",
              "        vertical-align: middle;\n",
              "    }\n",
              "\n",
              "    .dataframe tbody tr th {\n",
              "        vertical-align: top;\n",
              "    }\n",
              "\n",
              "    .dataframe thead th {\n",
              "        text-align: right;\n",
              "    }\n",
              "</style>\n",
              "<table border=\"1\" class=\"dataframe\">\n",
              "  <thead>\n",
              "    <tr style=\"text-align: right;\">\n",
              "      <th></th>\n",
              "      <th>tave</th>\n",
              "      <th>tmax</th>\n",
              "      <th>tmin</th>\n",
              "      <th>vp</th>\n",
              "      <th>rhmax</th>\n",
              "      <th>rhmin</th>\n",
              "      <th>pp</th>\n",
              "      <th>gust</th>\n",
              "    </tr>\n",
              "  </thead>\n",
              "  <tbody>\n",
              "    <tr>\n",
              "      <th>0</th>\n",
              "      <td>0.229322</td>\n",
              "      <td>0.220886</td>\n",
              "      <td>0.22676</td>\n",
              "      <td>0.226832</td>\n",
              "      <td>-0.011076</td>\n",
              "      <td>-0.070691</td>\n",
              "      <td>0.004483</td>\n",
              "      <td>-0.033154</td>\n",
              "    </tr>\n",
              "  </tbody>\n",
              "</table>\n",
              "</div>\n",
              "      <button class=\"colab-df-convert\" onclick=\"convertToInteractive('df-453bce10-6774-4951-9348-c8f7659cabe5')\"\n",
              "              title=\"Convert this dataframe to an interactive table.\"\n",
              "              style=\"display:none;\">\n",
              "        \n",
              "  <svg xmlns=\"http://www.w3.org/2000/svg\" height=\"24px\"viewBox=\"0 0 24 24\"\n",
              "       width=\"24px\">\n",
              "    <path d=\"M0 0h24v24H0V0z\" fill=\"none\"/>\n",
              "    <path d=\"M18.56 5.44l.94 2.06.94-2.06 2.06-.94-2.06-.94-.94-2.06-.94 2.06-2.06.94zm-11 1L8.5 8.5l.94-2.06 2.06-.94-2.06-.94L8.5 2.5l-.94 2.06-2.06.94zm10 10l.94 2.06.94-2.06 2.06-.94-2.06-.94-.94-2.06-.94 2.06-2.06.94z\"/><path d=\"M17.41 7.96l-1.37-1.37c-.4-.4-.92-.59-1.43-.59-.52 0-1.04.2-1.43.59L10.3 9.45l-7.72 7.72c-.78.78-.78 2.05 0 2.83L4 21.41c.39.39.9.59 1.41.59.51 0 1.02-.2 1.41-.59l7.78-7.78 2.81-2.81c.8-.78.8-2.07 0-2.86zM5.41 20L4 18.59l7.72-7.72 1.47 1.35L5.41 20z\"/>\n",
              "  </svg>\n",
              "      </button>\n",
              "      \n",
              "  <style>\n",
              "    .colab-df-container {\n",
              "      display:flex;\n",
              "      flex-wrap:wrap;\n",
              "      gap: 12px;\n",
              "    }\n",
              "\n",
              "    .colab-df-convert {\n",
              "      background-color: #E8F0FE;\n",
              "      border: none;\n",
              "      border-radius: 50%;\n",
              "      cursor: pointer;\n",
              "      display: none;\n",
              "      fill: #1967D2;\n",
              "      height: 32px;\n",
              "      padding: 0 0 0 0;\n",
              "      width: 32px;\n",
              "    }\n",
              "\n",
              "    .colab-df-convert:hover {\n",
              "      background-color: #E2EBFA;\n",
              "      box-shadow: 0px 1px 2px rgba(60, 64, 67, 0.3), 0px 1px 3px 1px rgba(60, 64, 67, 0.15);\n",
              "      fill: #174EA6;\n",
              "    }\n",
              "\n",
              "    [theme=dark] .colab-df-convert {\n",
              "      background-color: #3B4455;\n",
              "      fill: #D2E3FC;\n",
              "    }\n",
              "\n",
              "    [theme=dark] .colab-df-convert:hover {\n",
              "      background-color: #434B5C;\n",
              "      box-shadow: 0px 1px 3px 1px rgba(0, 0, 0, 0.15);\n",
              "      filter: drop-shadow(0px 1px 2px rgba(0, 0, 0, 0.3));\n",
              "      fill: #FFFFFF;\n",
              "    }\n",
              "  </style>\n",
              "\n",
              "      <script>\n",
              "        const buttonEl =\n",
              "          document.querySelector('#df-453bce10-6774-4951-9348-c8f7659cabe5 button.colab-df-convert');\n",
              "        buttonEl.style.display =\n",
              "          google.colab.kernel.accessAllowed ? 'block' : 'none';\n",
              "\n",
              "        async function convertToInteractive(key) {\n",
              "          const element = document.querySelector('#df-453bce10-6774-4951-9348-c8f7659cabe5');\n",
              "          const dataTable =\n",
              "            await google.colab.kernel.invokeFunction('convertToInteractive',\n",
              "                                                     [key], {});\n",
              "          if (!dataTable) return;\n",
              "\n",
              "          const docLinkHtml = 'Like what you see? Visit the ' +\n",
              "            '<a target=\"_blank\" href=https://colab.research.google.com/notebooks/data_table.ipynb>data table notebook</a>'\n",
              "            + ' to learn more about interactive tables.';\n",
              "          element.innerHTML = '';\n",
              "          dataTable['output_type'] = 'display_data';\n",
              "          await google.colab.output.renderOutput(dataTable, element);\n",
              "          const docLink = document.createElement('div');\n",
              "          docLink.innerHTML = docLinkHtml;\n",
              "          element.appendChild(docLink);\n",
              "        }\n",
              "      </script>\n",
              "    </div>\n",
              "  </div>\n",
              "  "
            ],
            "text/plain": [
              "       tave      tmax     tmin  ...     rhmin        pp      gust\n",
              "0  0.229322  0.220886  0.22676  ... -0.070691  0.004483 -0.033154\n",
              "\n",
              "[1 rows x 8 columns]"
            ]
          },
          "metadata": {},
          "execution_count": 30
        }
      ]
    },
    {
      "cell_type": "markdown",
      "source": [
        "Using the current day's features to predict the next day's features resulted us with 4 features that are most significant in predicing the changes in tave values. The 'tave' or 'average temperature' for that day is the most significant, 'tmin' and 'vp' are very close second and thirds. The 4th most significant is 'tmax'. I was most surprised that precipitation (pp) did not result in a higher weight value. I took an atmospheric science class and the amount of precipitation and water vapor pressure could have significant affects on the temperature. Interesting to see that vapor pressure is far more significant in this model than percipitation."
      ],
      "metadata": {
        "id": "fHEPFme9jcJ2"
      }
    },
    {
      "cell_type": "markdown",
      "metadata": {
        "id": "Q7Y5cvck_Rh2"
      },
      "source": [
        "## Grading and Check-in\n",
        "\n",
        "Your notebook will be partially graded automatically.  You can test this grading process yourself by downloading [A1grader.zip](https://www.cs.colostate.edu/~cs445/notebooks/A1grader.zip) and extract `A1grader.py` parallel to this notebook.  Run the code in the in the following cell to see an example grading run.  If your functions are defined correctly, you should see a score of 60/60.  The remaining 40 points are based on testing other data and your discussion."
      ]
    },
    {
      "cell_type": "code",
      "execution_count": null,
      "metadata": {
        "id": "lDIMfFYf_Rh2"
      },
      "outputs": [],
      "source": [
        "#%run -i A1grader.py"
      ]
    },
    {
      "cell_type": "markdown",
      "metadata": {
        "id": "JdLl1InZ_Rh3"
      },
      "source": [
        "A different but similar grading script will be used to grade yout checked-in notebook.  It will include different tests.\n",
        "\n",
        "You must name your notebook as `Lastname-A1.ipynb` with `Lastname` being your last name, and then save this notebook and check it in at the A1 assignment link in our Canvas web page."
      ]
    },
    {
      "cell_type": "markdown",
      "metadata": {
        "id": "AqxCG9j-_Rh3"
      },
      "source": [
        "## Extra Credit: 1 point"
      ]
    },
    {
      "cell_type": "markdown",
      "metadata": {
        "id": "kI72jq1J_Rh3"
      },
      "source": [
        "A typical problem when predicting the next value in a time series is\n",
        "that the best solution may be to predict the previous value.  The\n",
        "predicted value will look a lot like the input tave value shifted on\n",
        "time step later.\n",
        "\n",
        "To do better, try predicting the change in tave from one day to the next. `T` can be assigned as"
      ]
    },
    {
      "cell_type": "code",
      "execution_count": null,
      "metadata": {
        "id": "bM5Bft52_Rh3"
      },
      "outputs": [],
      "source": [
        "#T = data[1:, 0:1] -  data[:-1, 0:1]"
      ]
    },
    {
      "cell_type": "markdown",
      "metadata": {
        "id": "GmWUl6z7_Rh3"
      },
      "source": [
        "Now repeat the training experiments to pick good `learning_rate` and\n",
        "`n_epochs`.  Use predicted values to produce next day tave values by\n",
        "adding the predicted values to the previous day's tave.  Use `rmse`\n",
        "to determine if this way of predicting next tave is better than\n",
        "directly predicting tave."
      ]
    },
    {
      "cell_type": "code",
      "source": [
        "df = pd.read_csv('A1_data.txt', delim_whitespace=True, na_values='***')\n",
        "df = df.dropna(axis='columns')\n",
        "Xnames = ['tave', 'tmax', 'tmin', 'vp', 'rhmax', 'rhmin', 'pp', 'gust']\n",
        "Tnames = ['next tave']\n",
        "df = df[Xnames]\n",
        "X = np.array(df)\n",
        "T = X[1:, 0:1] -  X[:-1, 0:1]\n",
        "X = X[:-1, :]\n",
        "weatherModel1 = train(X, T, 0.00008, 30, verbose=True)\n",
        "predicted = use(X, weatherModel1)\n",
        "predicted += T\n",
        "plt.plot(T, '.', label='True Values')\n",
        "plt.plot(predicted, '.', label='Predicted')\n",
        "plt.legend()"
      ],
      "metadata": {
        "colab": {
          "base_uri": "https://localhost:8080/",
          "height": 456
        },
        "id": "At_cNpMOYvR2",
        "outputId": "6c459b7d-561d-4fcc-bc14-88e95fdc40cf"
      },
      "execution_count": 81,
      "outputs": [
        {
          "output_type": "stream",
          "name": "stdout",
          "text": [
            "Epoch 3 RMSE 0.98\n",
            "Epoch 6 RMSE 0.97\n",
            "Epoch 9 RMSE 0.96\n",
            "Epoch 12 RMSE 0.96\n",
            "Epoch 15 RMSE 0.95\n",
            "Epoch 18 RMSE 0.95\n",
            "Epoch 21 RMSE 0.95\n",
            "Epoch 24 RMSE 0.94\n",
            "Epoch 27 RMSE 0.94\n",
            "Epoch 30 RMSE 0.94\n"
          ]
        },
        {
          "output_type": "execute_result",
          "data": {
            "text/plain": [
              "<matplotlib.legend.Legend at 0x7f95963b1ed0>"
            ]
          },
          "metadata": {},
          "execution_count": 81
        },
        {
          "output_type": "display_data",
          "data": {
            "image/png": "[encoded data removed]",
            "text/plain": [
              "<Figure size 432x288 with 1 Axes>"
            ]
          },
          "metadata": {
            "needs_background": "light"
          }
        }
      ]
    },
    {
      "cell_type": "code",
      "source": [
        "plt.plot(predicted[:, 0], T[:, 0], 'o')\n",
        "plt.xlabel('Predicted')\n",
        "plt.ylabel('Actual')\n",
        "a = max(min(predicted[:, 0]), min(T[:, 0]))\n",
        "b = min(max(predicted[:, 0]), max(T[:, 0]))\n",
        "plt.plot([a, b], [a, b], 'r', linewidth=3)"
      ],
      "metadata": {
        "colab": {
          "base_uri": "https://localhost:8080/",
          "height": 296
        },
        "id": "9NR3C4I1ZmFh",
        "outputId": "6558742c-5c05-4f49-e584-13522e51957f"
      },
      "execution_count": 82,
      "outputs": [
        {
          "output_type": "execute_result",
          "data": {
            "text/plain": [
              "[<matplotlib.lines.Line2D at 0x7f959633f090>]"
            ]
          },
          "metadata": {},
          "execution_count": 82
        },
        {
          "output_type": "display_data",
          "data": {
            "image/png": "[encoded data removed]",
            "text/plain": [
              "<Figure size 432x288 with 1 Axes>"
            ]
          },
          "metadata": {
            "needs_background": "light"
          }
        }
      ]
    },
    {
      "cell_type": "code",
      "source": [
        "print(\"Weather Model RMSE:\", round(rmse(predicted, T),4))\n",
        "weights = np.array((weatherModel1['w'][1:]))\n",
        "weightDF = pd.DataFrame(weights).T\n",
        "weightDF.columns = Xnames\n",
        "weightDF"
      ],
      "metadata": {
        "colab": {
          "base_uri": "https://localhost:8080/",
          "height": 98
        },
        "id": "pGCgEQ0aZpUS",
        "outputId": "06187b2a-e092-4c6e-cb28-51402f1e93e3"
      },
      "execution_count": 83,
      "outputs": [
        {
          "output_type": "stream",
          "name": "stdout",
          "text": [
            "Weather Model RMSE: 0.9861\n"
          ]
        },
        {
          "output_type": "execute_result",
          "data": {
            "text/html": [
              "\n",
              "  <div id=\"df-ec155db8-0c85-4db9-939b-459988c26359\">\n",
              "    <div class=\"colab-df-container\">\n",
              "      <div>\n",
              "<style scoped>\n",
              "    .dataframe tbody tr th:only-of-type {\n",
              "        vertical-align: middle;\n",
              "    }\n",
              "\n",
              "    .dataframe tbody tr th {\n",
              "        vertical-align: top;\n",
              "    }\n",
              "\n",
              "    .dataframe thead th {\n",
              "        text-align: right;\n",
              "    }\n",
              "</style>\n",
              "<table border=\"1\" class=\"dataframe\">\n",
              "  <thead>\n",
              "    <tr style=\"text-align: right;\">\n",
              "      <th></th>\n",
              "      <th>tave</th>\n",
              "      <th>tmax</th>\n",
              "      <th>tmin</th>\n",
              "      <th>vp</th>\n",
              "      <th>rhmax</th>\n",
              "      <th>rhmin</th>\n",
              "      <th>pp</th>\n",
              "      <th>gust</th>\n",
              "    </tr>\n",
              "  </thead>\n",
              "  <tbody>\n",
              "    <tr>\n",
              "      <th>0</th>\n",
              "      <td>-0.04354</td>\n",
              "      <td>-0.044425</td>\n",
              "      <td>-0.040074</td>\n",
              "      <td>0.012133</td>\n",
              "      <td>0.042573</td>\n",
              "      <td>0.058191</td>\n",
              "      <td>0.026665</td>\n",
              "      <td>-0.166112</td>\n",
              "    </tr>\n",
              "  </tbody>\n",
              "</table>\n",
              "</div>\n",
              "      <button class=\"colab-df-convert\" onclick=\"convertToInteractive('df-ec155db8-0c85-4db9-939b-459988c26359')\"\n",
              "              title=\"Convert this dataframe to an interactive table.\"\n",
              "              style=\"display:none;\">\n",
              "        \n",
              "  <svg xmlns=\"http://www.w3.org/2000/svg\" height=\"24px\"viewBox=\"0 0 24 24\"\n",
              "       width=\"24px\">\n",
              "    <path d=\"M0 0h24v24H0V0z\" fill=\"none\"/>\n",
              "    <path d=\"M18.56 5.44l.94 2.06.94-2.06 2.06-.94-2.06-.94-.94-2.06-.94 2.06-2.06.94zm-11 1L8.5 8.5l.94-2.06 2.06-.94-2.06-.94L8.5 2.5l-.94 2.06-2.06.94zm10 10l.94 2.06.94-2.06 2.06-.94-2.06-.94-.94-2.06-.94 2.06-2.06.94z\"/><path d=\"M17.41 7.96l-1.37-1.37c-.4-.4-.92-.59-1.43-.59-.52 0-1.04.2-1.43.59L10.3 9.45l-7.72 7.72c-.78.78-.78 2.05 0 2.83L4 21.41c.39.39.9.59 1.41.59.51 0 1.02-.2 1.41-.59l7.78-7.78 2.81-2.81c.8-.78.8-2.07 0-2.86zM5.41 20L4 18.59l7.72-7.72 1.47 1.35L5.41 20z\"/>\n",
              "  </svg>\n",
              "      </button>\n",
              "      \n",
              "  <style>\n",
              "    .colab-df-container {\n",
              "      display:flex;\n",
              "      flex-wrap:wrap;\n",
              "      gap: 12px;\n",
              "    }\n",
              "\n",
              "    .colab-df-convert {\n",
              "      background-color: #E8F0FE;\n",
              "      border: none;\n",
              "      border-radius: 50%;\n",
              "      cursor: pointer;\n",
              "      display: none;\n",
              "      fill: #1967D2;\n",
              "      height: 32px;\n",
              "      padding: 0 0 0 0;\n",
              "      width: 32px;\n",
              "    }\n",
              "\n",
              "    .colab-df-convert:hover {\n",
              "      background-color: #E2EBFA;\n",
              "      box-shadow: 0px 1px 2px rgba(60, 64, 67, 0.3), 0px 1px 3px 1px rgba(60, 64, 67, 0.15);\n",
              "      fill: #174EA6;\n",
              "    }\n",
              "\n",
              "    [theme=dark] .colab-df-convert {\n",
              "      background-color: #3B4455;\n",
              "      fill: #D2E3FC;\n",
              "    }\n",
              "\n",
              "    [theme=dark] .colab-df-convert:hover {\n",
              "      background-color: #434B5C;\n",
              "      box-shadow: 0px 1px 3px 1px rgba(0, 0, 0, 0.15);\n",
              "      filter: drop-shadow(0px 1px 2px rgba(0, 0, 0, 0.3));\n",
              "      fill: #FFFFFF;\n",
              "    }\n",
              "  </style>\n",
              "\n",
              "      <script>\n",
              "        const buttonEl =\n",
              "          document.querySelector('#df-ec155db8-0c85-4db9-939b-459988c26359 button.colab-df-convert');\n",
              "        buttonEl.style.display =\n",
              "          google.colab.kernel.accessAllowed ? 'block' : 'none';\n",
              "\n",
              "        async function convertToInteractive(key) {\n",
              "          const element = document.querySelector('#df-ec155db8-0c85-4db9-939b-459988c26359');\n",
              "          const dataTable =\n",
              "            await google.colab.kernel.invokeFunction('convertToInteractive',\n",
              "                                                     [key], {});\n",
              "          if (!dataTable) return;\n",
              "\n",
              "          const docLinkHtml = 'Like what you see? Visit the ' +\n",
              "            '<a target=\"_blank\" href=https://colab.research.google.com/notebooks/data_table.ipynb>data table notebook</a>'\n",
              "            + ' to learn more about interactive tables.';\n",
              "          element.innerHTML = '';\n",
              "          dataTable['output_type'] = 'display_data';\n",
              "          await google.colab.output.renderOutput(dataTable, element);\n",
              "          const docLink = document.createElement('div');\n",
              "          docLink.innerHTML = docLinkHtml;\n",
              "          element.appendChild(docLink);\n",
              "        }\n",
              "      </script>\n",
              "    </div>\n",
              "  </div>\n",
              "  "
            ],
            "text/plain": [
              "      tave      tmax      tmin  ...     rhmin        pp      gust\n",
              "0 -0.04354 -0.044425 -0.040074  ...  0.058191  0.026665 -0.166112\n",
              "\n",
              "[1 rows x 8 columns]"
            ]
          },
          "metadata": {},
          "execution_count": 83
        }
      ]
    },
    {
      "cell_type": "markdown",
      "source": [
        "As you can see our weights have changed quite a bit. None of the weights are as high as the 4 largest ones in the previous model. Relative humidity, precipitation, and gust now play much larger roles in determining the next days average temperature. The weights are used to predict the change which is then can be used to determine the next days temperature, and this is a far greater method to determine the next days temperature."
      ],
      "metadata": {
        "id": "WaV2LG0LmdPQ"
      }
    },
    {
      "cell_type": "markdown",
      "source": [
        "From comparing our two models, predicting the change in temperature to predict the next days temperature is far better than the first model. Our first model achieved a RMSE of 3.33 which is over 3 times higher than our second model's RMSE of 0.98. A smaller RMSE indicates that our model is predicting the next days 'tave' with a much higher accuracy. It is surprising to see that such a small change can make a huge difference in the results and accuracy of our model."
      ],
      "metadata": {
        "id": "ZFKRTJi9k04w"
      }
    }
  ],
  "metadata": {
    "jupytext": {
      "formats": "ipynb,py"
    },
    "kernelspec": {
      "display_name": "Python 3",
      "language": "python",
      "name": "python3"
    },
    "language_info": {
      "codemirror_mode": {
        "name": "ipython",
        "version": 3
      },
      "file_extension": ".py",
      "mimetype": "text/x-python",
      "name": "python",
      "nbconvert_exporter": "python",
      "pygments_lexer": "ipython3",
      "version": "3.7.7"
    },
    "colab": {
      "name": "Martin-A1.ipynb",
      "provenance": [],
      "collapsed_sections": []
    },
    "accelerator": "GPU"
  },
  "nbformat": 4,
  "nbformat_minor": 0
}